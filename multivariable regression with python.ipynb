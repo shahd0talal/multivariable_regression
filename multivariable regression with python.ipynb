{
 "cells": [
  {
   "cell_type": "code",
   "execution_count": 1,
   "id": "381d9b26-37f8-4068-966b-aa16359538ad",
   "metadata": {},
   "outputs": [],
   "source": [
    "import numpy as np\n",
    "import pandas as pd\n",
    "import matplotlib.pyplot as plt"
   ]
  },
  {
   "cell_type": "code",
   "execution_count": 2,
   "id": "bc9edd30-c209-43cb-8093-19af99f6e63b",
   "metadata": {},
   "outputs": [],
   "source": [
    "data=pd.read_csv(r'C:\\Users\\Shahed\\OneDrive - Hashemite University\\multivariable_regression-1\\data.txt' ,header=None ,names=['Size','bedrooms','price'])"
   ]
  },
  {
   "cell_type": "code",
   "execution_count": 3,
   "id": "40740949-e5e0-4602-9d35-858073cb3555",
   "metadata": {},
   "outputs": [
    {
     "name": "stdout",
     "output_type": "stream",
     "text": [
      "data -->\n",
      "    Size  bedrooms   price\n",
      "0  2104         3  399900\n",
      "1  1600         3  329900\n",
      "2  2400         3  369000\n",
      "3  1416         2  232000\n",
      "4  3000         4  539900\n",
      "5  1985         4  299900\n",
      "6  1534         3  314900\n",
      "7  1427         3  198999\n",
      "8  1380         3  212000\n",
      "9  1494         3  242500\n"
     ]
    }
   ],
   "source": [
    "print('data -->\\n',data.head(10))"
   ]
  },
  {
   "cell_type": "code",
   "execution_count": 4,
   "id": "ac38d34f-b2e9-4db1-8f17-b103bf70392a",
   "metadata": {},
   "outputs": [
    {
     "name": "stdout",
     "output_type": "stream",
     "text": [
      "              Size   bedrooms          price\n",
      "count    47.000000  47.000000      47.000000\n",
      "mean   2000.680851   3.170213  340412.659574\n",
      "std     794.702354   0.760982  125039.899586\n",
      "min     852.000000   1.000000  169900.000000\n",
      "25%    1432.000000   3.000000  249900.000000\n",
      "50%    1888.000000   3.000000  299900.000000\n",
      "75%    2269.000000   4.000000  384450.000000\n",
      "max    4478.000000   5.000000  699900.000000\n"
     ]
    }
   ],
   "source": [
    "print(data.describe())"
   ]
  },
  {
   "cell_type": "code",
   "execution_count": 5,
   "id": "5c0b13d6-3432-4781-858e-7a071e5efbd6",
   "metadata": {},
   "outputs": [
    {
     "name": "stdout",
     "output_type": "stream",
     "text": [
      "data -->\n",
      "        Size  bedrooms     price\n",
      "0  0.028494 -0.042553  0.112240\n",
      "1 -0.110502 -0.042553 -0.019835\n",
      "2  0.110127 -0.042553  0.053938\n",
      "3 -0.161247 -0.292553 -0.204552\n",
      "4  0.275598  0.207447  0.376391\n",
      "5 -0.004325  0.207447 -0.076439\n",
      "6 -0.128704 -0.042553 -0.048137\n",
      "7 -0.158213 -0.042553 -0.266818\n",
      "8 -0.171175 -0.042553 -0.242288\n",
      "9 -0.139735 -0.042553 -0.184741\n"
     ]
    }
   ],
   "source": [
    "data=(data-data.mean())/(data.max()-data.min())\n",
    "print('data -->\\n',data.head(10))"
   ]
  },
  {
   "cell_type": "code",
   "execution_count": 6,
   "id": "ad3ad6ca-c591-4ff8-842b-3ebf320e7723",
   "metadata": {},
   "outputs": [
    {
     "name": "stdout",
     "output_type": "stream",
     "text": [
      "data -->\n",
      "    Ones      Size  bedrooms     price\n",
      "0     1  0.028494 -0.042553  0.112240\n",
      "1     1 -0.110502 -0.042553 -0.019835\n",
      "2     1  0.110127 -0.042553  0.053938\n",
      "3     1 -0.161247 -0.292553 -0.204552\n",
      "4     1  0.275598  0.207447  0.376391\n",
      "5     1 -0.004325  0.207447 -0.076439\n",
      "6     1 -0.128704 -0.042553 -0.048137\n",
      "7     1 -0.158213 -0.042553 -0.266818\n",
      "8     1 -0.171175 -0.042553 -0.242288\n",
      "9     1 -0.139735 -0.042553 -0.184741\n"
     ]
    }
   ],
   "source": [
    "data.insert(0,'Ones',1)\n",
    "print('data -->\\n',data.head(10))"
   ]
  },
  {
   "cell_type": "code",
   "execution_count": 7,
   "id": "14d5e9dd-f80c-438a-88be-f6216cb3286d",
   "metadata": {},
   "outputs": [
    {
     "name": "stdout",
     "output_type": "stream",
     "text": [
      "x -->\n",
      "    Ones      Size  bedrooms\n",
      "0     1  0.028494 -0.042553\n",
      "1     1 -0.110502 -0.042553\n",
      "2     1  0.110127 -0.042553\n",
      "3     1 -0.161247 -0.292553\n",
      "4     1  0.275598  0.207447\n",
      "5     1 -0.004325  0.207447\n",
      "6     1 -0.128704 -0.042553\n",
      "7     1 -0.158213 -0.042553\n",
      "8     1 -0.171175 -0.042553\n",
      "9     1 -0.139735 -0.042553\n",
      "y -->\n",
      "       price\n",
      "0  0.112240\n",
      "1 -0.019835\n",
      "2  0.053938\n",
      "3 -0.204552\n",
      "4  0.376391\n",
      "5 -0.076439\n",
      "6 -0.048137\n",
      "7 -0.266818\n",
      "8 -0.242288\n",
      "9 -0.184741\n"
     ]
    }
   ],
   "source": [
    "cols=data.shape[1]\n",
    "x=data.iloc[:,0:cols-1]\n",
    "y=data.iloc[:,cols-1:cols]\n",
    "print('x -->\\n',x.head(10))\n",
    "print('y -->\\n',y.head(10))"
   ]
  },
  {
   "cell_type": "code",
   "execution_count": 8,
   "id": "953fe014-4a64-430d-99f6-fe27968cc33d",
   "metadata": {},
   "outputs": [],
   "source": [
    "x=np.matrix(x.values)\n",
    "y=np.matrix(y.values)\n",
    "theta=np.matrix(np.array([0,0,0]))"
   ]
  },
  {
   "cell_type": "code",
   "execution_count": 9,
   "id": "e434ea8a-6d4c-4954-a562-986f289f0617",
   "metadata": {},
   "outputs": [
    {
     "name": "stdout",
     "output_type": "stream",
     "text": [
      "x -->\n",
      " [[ 1.00000000e+00  2.84939738e-02 -4.25531915e-02]\n",
      " [ 1.00000000e+00 -1.10502165e-01 -4.25531915e-02]\n",
      " [ 1.00000000e+00  1.10126627e-01 -4.25531915e-02]\n",
      " [ 1.00000000e+00 -1.61246787e-01 -2.92553191e-01]\n",
      " [ 1.00000000e+00  2.75598221e-01  2.07446809e-01]\n",
      " [ 1.00000000e+00 -4.32455904e-03  2.07446809e-01]\n",
      " [ 1.00000000e+00 -1.28704041e-01 -4.25531915e-02]\n",
      " [ 1.00000000e+00 -1.58213141e-01 -4.25531915e-02]\n",
      " [ 1.00000000e+00 -1.71175083e-01 -4.25531915e-02]\n",
      " [ 1.00000000e+00 -1.39735480e-01 -4.25531915e-02]\n",
      " [ 1.00000000e+00 -1.67349286e-02  2.07446809e-01]\n",
      " [ 1.00000000e+00 -1.87769185e-04 -4.25531915e-02]\n",
      " [ 1.00000000e+00 -3.05242281e-02 -4.25531915e-02]\n",
      " [ 1.00000000e+00  6.83209914e-01  4.57446809e-01]\n",
      " [ 1.00000000e+00 -2.02063114e-01 -4.25531915e-02]\n",
      " [ 1.00000000e+00  8.25480278e-02  2.07446809e-01]\n",
      " [ 1.00000000e+00 -1.87722242e-01 -2.92553191e-01]\n",
      " [ 1.00000000e+00 -2.10888266e-01 -4.25531915e-02]\n",
      " [ 1.00000000e+00  1.67765899e-01  2.07446809e-01]\n",
      " [ 1.00000000e+00  2.84147587e-01  2.07446809e-01]\n",
      " [ 1.00000000e+00 -6.44459049e-02 -4.25531915e-02]\n",
      " [ 1.00000000e+00 -3.10758001e-02 -2.92553191e-01]\n",
      " [ 1.00000000e+00 -1.09399021e-01 -4.25531915e-02]\n",
      " [ 1.00000000e+00 -1.06676368e-02  2.07446809e-01]\n",
      " [ 1.00000000e+00  5.21047752e-01 -4.25531915e-02]\n",
      " [ 1.00000000e+00 -2.48395160e-01 -4.25531915e-02]\n",
      " [ 1.00000000e+00 -1.49663776e-01 -4.25531915e-02]\n",
      " [ 1.00000000e+00  1.44875662e-01 -4.25531915e-02]\n",
      " [ 1.00000000e+00  5.49694288e-02 -4.25531915e-02]\n",
      " [ 1.00000000e+00  1.75487906e-01 -4.25531915e-02]\n",
      " [ 1.00000000e+00 -4.45893136e-02 -2.92553191e-01]\n",
      " [ 1.00000000e+00 -2.75973759e-01 -5.42553191e-01]\n",
      " [ 1.00000000e+00  1.08436704e-02  2.07446809e-01]\n",
      " [ 1.00000000e+00  3.13380902e-01 -4.25531915e-02]\n",
      " [ 1.00000000e+00 -5.23113213e-02  2.07446809e-01]\n",
      " [ 1.00000000e+00 -1.55455282e-01 -4.25531915e-02]\n",
      " [ 1.00000000e+00 -2.10060908e-01 -4.25531915e-02]\n",
      " [ 1.00000000e+00  3.62159815e-02  2.07446809e-01]\n",
      " [ 1.00000000e+00  6.10678199e-01  2.07446809e-01]\n",
      " [ 1.00000000e+00  4.44895612e-02  2.07446809e-01]\n",
      " [ 1.00000000e+00 -9.28518618e-02 -2.92553191e-01]\n",
      " [ 1.00000000e+00  6.54492965e-02 -4.25531915e-02]\n",
      " [ 1.00000000e+00  1.56182887e-01  2.07446809e-01]\n",
      " [ 1.00000000e+00 -2.20816561e-01 -4.25531915e-02]\n",
      " [ 1.00000000e+00 -3.16790086e-01 -2.92553191e-01]\n",
      " [ 1.00000000e+00 -4.10040957e-02  2.07446809e-01]\n",
      " [ 1.00000000e+00 -2.19989203e-01 -4.25531915e-02]]\n",
      "x shape=  (47, 3)\n"
     ]
    }
   ],
   "source": [
    "print('x -->\\n',x)\n",
    "print('x shape= ',x.shape)"
   ]
  },
  {
   "cell_type": "code",
   "execution_count": 10,
   "id": "a34d1e0d-9818-4f25-9af0-262029393333",
   "metadata": {},
   "outputs": [
    {
     "name": "stdout",
     "output_type": "stream",
     "text": [
      "y -->\n",
      " [[ 0.11224026]\n",
      " [-0.01983521]\n",
      " [ 0.05393838]\n",
      " [-0.20455219]\n",
      " [ 0.37639121]\n",
      " [-0.07643898]\n",
      " [-0.04813709]\n",
      " [-0.26681823]\n",
      " [-0.24228804]\n",
      " [-0.18474087]\n",
      " [-0.18945974]\n",
      " [ 0.01242894]\n",
      " [-0.01964841]\n",
      " [ 0.678278  ]\n",
      " [-0.15191068]\n",
      " [ 0.20657989]\n",
      " [-0.07643898]\n",
      " [-0.26511823]\n",
      " [ 0.30110442]\n",
      " [ 0.48790064]\n",
      " [-0.16511823]\n",
      " [-0.16115596]\n",
      " [-0.18398615]\n",
      " [-0.15191068]\n",
      " [ 0.44054215]\n",
      " [-0.1707786 ]\n",
      " [ 0.23412706]\n",
      " [ 0.24261762]\n",
      " [ 0.25393838]\n",
      " [-0.07643898]\n",
      " [ 0.01790064]\n",
      " [-0.321722  ]\n",
      " [-0.04813709]\n",
      " [ 0.45186291]\n",
      " [-0.10285407]\n",
      " [-0.1707786 ]\n",
      " [-0.20851445]\n",
      " [ 0.00865536]\n",
      " [ 0.39356102]\n",
      " [-0.1007786 ]\n",
      " [ 0.05299498]\n",
      " [-0.01983521]\n",
      " [-0.04983521]\n",
      " [-0.07813709]\n",
      " [-0.30285407]\n",
      " [-0.07643898]\n",
      " [-0.19040124]]\n",
      "y shape=  (47, 1)\n"
     ]
    }
   ],
   "source": [
    "print('y -->\\n',y)\n",
    "print('y shape= ',y.shape)"
   ]
  },
  {
   "cell_type": "code",
   "execution_count": 11,
   "id": "0030b246-2a3c-49ee-9b2f-5807f425d35a",
   "metadata": {},
   "outputs": [
    {
     "name": "stdout",
     "output_type": "stream",
     "text": [
      "theta -->\n",
      " [[0 0 0]]\n",
      "theta shape=  (1, 3)\n"
     ]
    }
   ],
   "source": [
    "print('theta -->\\n',theta)\n",
    "print('theta shape= ',theta.shape)"
   ]
  },
  {
   "cell_type": "code",
   "execution_count": 12,
   "id": "482a0b5d-9366-4ed3-9558-c6f3996a7d08",
   "metadata": {},
   "outputs": [],
   "source": [
    "alpha=0.03\n",
    "iters=2000"
   ]
  },
  {
   "cell_type": "code",
   "execution_count": 13,
   "id": "680f7d81-eb7a-451e-b6c3-ad799c6b7996",
   "metadata": {},
   "outputs": [],
   "source": [
    "def computCost(x,y,theta):\n",
    "    term=np.power(((x * theta.T)-y),2)\n",
    "    return np.sum(term)/(2 * len(x))"
   ]
  },
  {
   "cell_type": "code",
   "execution_count": 14,
   "id": "b74a4568-66da-4b13-be7e-ae3fb1e1a536",
   "metadata": {},
   "outputs": [],
   "source": [
    "def gradientDescent(x,y,theta,alpha,iters):\n",
    "    temp=np.matrix(np.zeros(theta.shape))\n",
    "    parameters=theta.shape[-1]\n",
    "    cost=np.zeros(iters)\n",
    "    for i in range(iters):\n",
    "        error=(x*theta.T)-y\n",
    "        for j in range(parameters):\n",
    "            term=np.multiply(error,x[:,j])\n",
    "            temp[0,j]=theta[0,j]-((alpha/len(x))*np.sum(term))\n",
    "        theta=temp\n",
    "        cost[i]=computCost(x,y,theta)\n",
    "    return theta,cost"
   ]
  },
  {
   "cell_type": "code",
   "execution_count": 15,
   "id": "049a553b-91a5-4d53-bb27-955174563e57",
   "metadata": {},
   "outputs": [],
   "source": [
    "g,cost=gradientDescent(x,y,theta,alpha,iters)"
   ]
  },
  {
   "cell_type": "code",
   "execution_count": 16,
   "id": "4f773a0d-9ad2-4e9d-b92f-2dac80e734db",
   "metadata": {},
   "outputs": [
    {
     "name": "stdout",
     "output_type": "stream",
     "text": [
      "theta=  [[-2.91876452e-17  8.05292900e-01  9.94866588e-02]]\n",
      "cost -->\n",
      " [0.02717059 0.02710342 0.02703649 0.02696982 0.0269034  0.02683722\n",
      " 0.02677128 0.0267056  0.02664016 0.02657496 0.02651    0.02644529\n",
      " 0.02638081 0.02631658 0.02625259 0.02618883 0.02612531 0.02606203\n",
      " 0.02599898 0.02593616 0.02587358 0.02581124 0.02574912 0.02568723\n",
      " 0.02562558 0.02556415 0.02550295 0.02544198 0.02538124 0.02532072\n",
      " 0.02526042 0.02520035 0.02514051 0.02508088 0.02502148 0.02496229\n",
      " 0.02490333 0.02484458 0.02478605 0.02472774 0.02466965 0.02461177\n",
      " 0.02455411 0.02449665 0.02443942 0.02438239 0.02432558 0.02426897\n",
      " 0.02421258 0.02415639]\n",
      "computeCost=  0.007711384531608176\n"
     ]
    }
   ],
   "source": [
    "print('theta= ', g)\n",
    "print('cost -->\\n',cost[0:50])\n",
    "print('computeCost= ',computCost(x,y,g))"
   ]
  },
  {
   "cell_type": "code",
   "execution_count": 17,
   "id": "4f5cdf2c-cabd-4858-9238-fdd9f9998de2",
   "metadata": {},
   "outputs": [
    {
     "data": {
      "text/plain": [
       "Text(0.5, 1.0, 'size vs. price')"
      ]
     },
     "execution_count": 17,
     "metadata": {},
     "output_type": "execute_result"
    },
    {
     "data": {
      "image/png": "[encoded data removed]",
      "text/plain": [
       "<Figure size 500x500 with 1 Axes>"
      ]
     },
     "metadata": {},
     "output_type": "display_data"
    }
   ],
   "source": [
    "x=np.linspace(data.Size.min(),data.Size.max(),100)\n",
    "f=g[0,0]+g[0,1]*x\n",
    "fig,ax=plt.subplots(figsize=(5,5))\n",
    "ax.plot(x,f,'r',label='prediction')\n",
    "ax.scatter(data.Size,data.price,label='traning data')\n",
    "ax.legend(loc=2)\n",
    "ax.set_xlabel('size')\n",
    "ax.set_ylabel('price')\n",
    "ax.set_title('size vs. price')"
   ]
  },
  {
   "cell_type": "code",
   "execution_count": 18,
   "id": "60a2212c-8a7e-4d7b-8162-05a03bb03194",
   "metadata": {},
   "outputs": [
    {
     "data": {
      "text/plain": [
       "Text(0.5, 1.0, 'bedrooms vs. price')"
      ]
     },
     "execution_count": 18,
     "metadata": {},
     "output_type": "execute_result"
    },
    {
     "data": {
      "image/png": "[encoded data removed]",
      "text/plain": [
       "<Figure size 500x500 with 1 Axes>"
      ]
     },
     "metadata": {},
     "output_type": "display_data"
    }
   ],
   "source": [
    "x=np.linspace(data.bedrooms.min(),data.bedrooms.max(),100)\n",
    "f=g[0,0]+g[0,1]*x\n",
    "fig,ax=plt.subplots(figsize=(5,5))\n",
    "ax.plot(x,f,'r',label='prediction')\n",
    "ax.scatter(data.bedrooms,data.price,label='traning data')\n",
    "ax.legend(loc=2)\n",
    "ax.set_xlabel('bedrooms')\n",
    "ax.set_ylabel('price')\n",
    "ax.set_title('bedrooms vs. price')"
   ]
  },
  {
   "cell_type": "code",
   "execution_count": 19,
   "id": "f0063fff-e025-4681-b43d-b149c8d6f499",
   "metadata": {},
   "outputs": [
    {
     "data": {
      "text/plain": [
       "Text(0.5, 1.0, 'error vs. traning epoch')"
      ]
     },
     "execution_count": 19,
     "metadata": {},
     "output_type": "execute_result"
    },
    {
     "data": {
      "image/png": "[encoded data removed]",
      "text/plain": [
       "<Figure size 500x500 with 1 Axes>"
      ]
     },
     "metadata": {},
     "output_type": "display_data"
    }
   ],
   "source": [
    "fig,ax=plt.subplots(figsize=(5,5))\n",
    "ax.plot(np.arange(iters),cost,'r')\n",
    "ax.set_xlabel('itrations')\n",
    "ax.set_ylabel('cost')\n",
    "ax.set_title('error vs. traning epoch')"
   ]
  }
 ],
 "metadata": {
  "kernelspec": {
   "display_name": "base",
   "language": "python",
   "name": "python3"
  },
  "language_info": {
   "codemirror_mode": {
    "name": "ipython",
    "version": 3
   },
   "file_extension": ".py",
   "mimetype": "text/x-python",
   "name": "python",
   "nbconvert_exporter": "python",
   "pygments_lexer": "ipython3",
   "version": "3.11.5"
  }
 },
 "nbformat": 4,
 "nbformat_minor": 5
}
